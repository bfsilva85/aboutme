{
  "nbformat": 4,
  "nbformat_minor": 0,
  "metadata": {
    "colab": {
      "provenance": [],
      "authorship_tag": "ABX9TyNkq4Vxmtr91Hs87svcas2w"
    },
    "kernelspec": {
      "name": "python3",
      "display_name": "Python 3"
    },
    "language_info": {
      "name": "python"
    }
  },
  "cells": [
    {
      "cell_type": "code",
      "execution_count": 1,
      "metadata": {
        "colab": {
          "base_uri": "https://localhost:8080/"
        },
        "id": "f8mblFKARa8C",
        "outputId": "8c1c9b67-e675-4267-d559-333e2d20396d"
      },
      "outputs": [
        {
          "output_type": "stream",
          "name": "stdout",
          "text": [
            "9\n"
          ]
        }
      ],
      "source": [
        " print(4 + 5)"
      ]
    },
    {
      "cell_type": "code",
      "source": [
        "bruno_height = 1.83\n",
        "bruno_weight = 93\n",
        "\n",
        "bmi = (bruno_weight / bruno_height ** 2)\n",
        "print(bmi)\n",
        "\n",
        "if bmi < 18.5: print('Underweight')\n",
        "elif (bmi >= 18.5 and bmi <= 25): print('Healthy')\n",
        "elif (bmi >= 25   and bmi <= 30): print('Overweight')\n",
        "elif (bmi >  30): print('Obesity')\n",
        "else: print('Error')"
      ],
      "metadata": {
        "colab": {
          "base_uri": "https://localhost:8080/"
        },
        "id": "ddwX3hN1RstQ",
        "outputId": "f20171a6-f370-46f2-c587-a87fd3f3aa19"
      },
      "execution_count": 52,
      "outputs": [
        {
          "output_type": "stream",
          "name": "stdout",
          "text": [
            "27.77031263997133\n",
            "Overweight\n"
          ]
        }
      ]
    },
    {
      "cell_type": "code",
      "source": [],
      "metadata": {
        "id": "BXVA_vtKbIIC"
      },
      "execution_count": null,
      "outputs": []
    },
    {
      "cell_type": "markdown",
      "source": [
        "\n",
        "\n",
        "*   Underweight. Less than 18.5\n",
        "*   Healthy Weight. 18.5 to less than 25.\n",
        "*   Overweight. 25 to less than 30.\n",
        "*   Obesity. 30 or greater.\n",
        "*   Class 1 Obesity. 30 to less than 35.\n",
        "*   Class 2 Obesity. 35 to less than 40.\n",
        "*   Class 3 Obesity. (Severe Obesity) 40 or greater."
      ],
      "metadata": {
        "id": "zR8mdCLXSnHA"
      }
    },
    {
      "cell_type": "code",
      "source": [
        "import numpy as np\n",
        "\n",
        "bmi = [32, 23, 27, 16]\n",
        "np_bmi = np.array(bmi)\n",
        "print(type(np_bmi))\n",
        "print(np_bmi)\n",
        "\n",
        "np.bmi2 = np_bmi + np_bmi\n",
        "print(np.bmi2)"
      ],
      "metadata": {
        "colab": {
          "base_uri": "https://localhost:8080/"
        },
        "id": "ur3dbydsxTz6",
        "outputId": "63ac6349-47df-4bca-8262-ee57eb900b1d"
      },
      "execution_count": 74,
      "outputs": [
        {
          "output_type": "stream",
          "name": "stdout",
          "text": [
            "<class 'numpy.ndarray'>\n",
            "[32 23 27 16]\n",
            "[64 46 54 32]\n"
          ]
        }
      ]
    },
    {
      "cell_type": "code",
      "source": [],
      "metadata": {
        "id": "s1Eya8_fzX1T"
      },
      "execution_count": 65,
      "outputs": []
    }
  ]
}