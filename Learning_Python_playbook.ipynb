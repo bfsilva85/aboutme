{
  "nbformat": 4,
  "nbformat_minor": 0,
  "metadata": {
    "colab": {
      "provenance": [],
      "authorship_tag": "ABX9TyNMk1Npnbw84cY5XUIEYEGV",
      "include_colab_link": true
    },
    "kernelspec": {
      "name": "python3",
      "display_name": "Python 3"
    },
    "language_info": {
      "name": "python"
    }
  },
  "cells": [
    {
      "cell_type": "markdown",
      "metadata": {
        "id": "view-in-github",
        "colab_type": "text"
      },
      "source": [
        "<a href=\"https://colab.research.google.com/github/bfsilva85/aboutme/blob/main/Learning_Python_playbook.ipynb\" target=\"_parent\"><img src=\"https://colab.research.google.com/assets/colab-badge.svg\" alt=\"Open In Colab\"/></a>"
      ]
    },
    {
      "cell_type": "code",
      "execution_count": 1,
      "metadata": {
        "colab": {
          "base_uri": "https://localhost:8080/"
        },
        "id": "f8mblFKARa8C",
        "outputId": "8c1c9b67-e675-4267-d559-333e2d20396d"
      },
      "outputs": [
        {
          "output_type": "stream",
          "name": "stdout",
          "text": [
            "9\n"
          ]
        }
      ],
      "source": [
        " print(4 + 5)"
      ]
    },
    {
      "cell_type": "code",
      "source": [
        "bruno_height = 1.83\n",
        "bruno_weight = 93\n",
        "\n",
        "bmi = (bruno_weight / bruno_height ** 2)\n",
        "print(bmi)\n",
        "\n",
        "if bmi < 18.5: print('Underweight')\n",
        "elif (bmi >= 18.5 and bmi <= 25): print('Healthy')\n",
        "elif (bmi >= 25   and bmi <= 30): print('Overweight')\n",
        "elif (bmi >  30): print('Obesity')\n",
        "else: print('Error')"
      ],
      "metadata": {
        "colab": {
          "base_uri": "https://localhost:8080/"
        },
        "id": "ddwX3hN1RstQ",
        "outputId": "4757a825-2b3a-41fc-b74c-6e389454ec06"
      },
      "execution_count": 50,
      "outputs": [
        {
          "output_type": "stream",
          "name": "stdout",
          "text": [
            "27.77031263997133\n",
            "Overweight\n"
          ]
        }
      ]
    },
    {
      "cell_type": "code",
      "source": [],
      "metadata": {
        "id": "BXVA_vtKbIIC"
      },
      "execution_count": null,
      "outputs": []
    },
    {
      "cell_type": "markdown",
      "source": [
        "\n",
        "\n",
        "*   Underweight. Less than 18.5\n",
        "*   Healthy Weight. 18.5 to less than 25.\n",
        "*   Overweight. 25 to less than 30.\n",
        "*   Obesity. 30 or greater.\n",
        "*   Class 1 Obesity. 30 to less than 35.\n",
        "*   Class 2 Obesity. 35 to less than 40.\n",
        "*   Class 3 Obesity. (Severe Obesity) 40 or greater."
      ],
      "metadata": {
        "id": "zR8mdCLXSnHA"
      }
    }
  ]
}